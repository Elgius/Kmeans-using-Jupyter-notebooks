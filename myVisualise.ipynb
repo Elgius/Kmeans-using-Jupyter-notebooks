{
 "cells": [
  {
   "cell_type": "code",
   "execution_count": null,
   "metadata": {},
   "outputs": [],
   "source": [
    "import numpy as np\n",
    "import matplotlib.pyplot as plt\n",
    "from sklearn.cluster import KMeans\n",
    "\n",
    "def cluster_and_visualise(datafilename, K, featurenames):\n",
    "    # reads the data file that the user inputs\n",
    "    values = np.genfromtxt(datafilename, delimiter=\",\")\n",
    "\n",
    "    if type(featurenames) != tuple:\n",
    "        ft = featurenames.split(\",\")\n",
    "        lenn  = len(ft)\n",
    "    else:\n",
    "        ft = featurenames\n",
    "        lenn  = len(ft)\n",
    "    \n",
    "    # find the K-means of the dataset\n",
    "    clusterModel = KMeans(n_clusters=K)\n",
    "    clusterModel.fit(values)\n",
    "    cluster_ids = clusterModel.predict(values)\n",
    "\n",
    "    size = lenn * 6\n",
    "\n",
    "    fig, ax = plt.subplots(lenn, lenn, figsize = (size,size), squeeze = False)\n",
    "    \n",
    "    # plot the scatter matrix\n",
    "    x = 0\n",
    "    while x < lenn:\n",
    "        for y in range(lenn):\n",
    "            ax[x, y].set_xlabel(ft[x])\n",
    "            if (x == y):\n",
    "                # if x and y values are the same, a histogram will be generated\n",
    "                ax[x, y].set_title(f'Histogram for {ft[x]}', loc='center')\n",
    "                ax[x, y].hist(values[:,x])\n",
    "            else:\n",
    "                # if x and y values are different, a scatter plot will be generated\n",
    "                ax[x, y].set_title(f'Scatter Plot for {ft[x]} & {ft[y]}', loc='center')\n",
    "                ax[x, y].scatter(values[:,x],values[:,y],c=cluster_ids)\n",
    "                ax[x, y].set_ylabel(ft[y])\n",
    "        x += 1\n",
    "\n",
    "    # shows the title of the scatter matrix\n",
    "    title = plt.suptitle(f\"Quality Visualiser for quality fwens with {K} clusters each\", fontsize=size*2.5)\n",
    "    # saves the visuaisation as a jpg\n",
    "    plt.savefig(\"myVisualisation.jpg\")\n",
    "    return fig, ax"
   ]
  },
  {
   "cell_type": "code",
   "execution_count": null,
   "metadata": {},
   "outputs": [],
   "source": [
    "featurenames = ('mean_red','mean_green','mean_blue', 'width','height','weight')\n",
    "\n",
    "datafile = \"fruit_values.csv\"\n",
    "\n",
    "cluster_and_visualise(datafile, 3, featurenames)"
   ]
  }
 ],
 "metadata": {
  "kernelspec": {
   "display_name": "Python 3.9.12 ('base')",
   "language": "python",
   "name": "python3"
  },
  "language_info": {
   "codemirror_mode": {
    "name": "ipython",
    "version": 3
   },
   "file_extension": ".py",
   "mimetype": "text/x-python",
   "name": "python",
   "nbconvert_exporter": "python",
   "pygments_lexer": "ipython3",
   "version": "3.9.12"
  },
  "orig_nbformat": 4,
  "vscode": {
   "interpreter": {
    "hash": "7e6364c2a56099c6a3cf70828f74e068b54873b7c02d5e69c65e741733bdf84b"
   }
  }
 },
 "nbformat": 4,
 "nbformat_minor": 2
}
